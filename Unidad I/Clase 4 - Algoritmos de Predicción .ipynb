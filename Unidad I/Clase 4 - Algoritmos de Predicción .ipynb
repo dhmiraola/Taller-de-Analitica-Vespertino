{
 "cells": [
  {
   "attachments": {
    "cropped-Recurso-2-3.png": {
     "image/png": "[encoded data removed]"
    }
   },
   "cell_type": "markdown",
   "id": "923b6901",
   "metadata": {},
   "source": [
    "![cropped-Recurso-2-3.png](attachment:cropped-Recurso-2-3.png)\n",
    "# Taller de Analítica\n",
    "### Clase 4: Repaso de Algoritmos de Predicción con GridSearchCV\n",
    "#### Profesor: Diego Miranda Olavarría\n",
    "#### Data Scientist"
   ]
  },
  {
   "cell_type": "markdown",
   "id": "19724917",
   "metadata": {},
   "source": [
    "### En esta clase reforzaremos y practicaremos los distintos algoritmos de Machine Learning utilizando la libreria Scikit-Learn y GridSearchCV, que permite elaborar algoritmos predictivos y establecer la busqueda de parametros con el objetivo de mejorar las metricas y el rendimiento de los modelos."
   ]
  },
  {
   "cell_type": "code",
   "execution_count": null,
   "id": "e786e799",
   "metadata": {},
   "outputs": [],
   "source": [
    "import pandas as pd \n",
    "from sklearn.model_selection import GridSearchCV\n",
    "\n",
    "data = pd.read_csv('housing.csv')\n",
    "\n",
    "data.head()"
   ]
  },
  {
   "cell_type": "code",
   "execution_count": null,
   "id": "7d1d3191",
   "metadata": {},
   "outputs": [],
   "source": [
    "data.shape"
   ]
  },
  {
   "cell_type": "code",
   "execution_count": null,
   "id": "7ec51f6c",
   "metadata": {},
   "outputs": [],
   "source": [
    "data.describe()"
   ]
  },
  {
   "cell_type": "code",
   "execution_count": null,
   "id": "9e499b87",
   "metadata": {},
   "outputs": [],
   "source": [
    "data.dtypes"
   ]
  },
  {
   "cell_type": "code",
   "execution_count": null,
   "id": "d184ef98",
   "metadata": {},
   "outputs": [],
   "source": [
    "data.isnull().sum()"
   ]
  },
  {
   "cell_type": "markdown",
   "id": "cccae86f",
   "metadata": {},
   "source": [
    "### Imputamos los valores faltantes mediante el promedio"
   ]
  },
  {
   "cell_type": "code",
   "execution_count": null,
   "id": "210ae1d9",
   "metadata": {},
   "outputs": [],
   "source": [
    "data[\"total_bedrooms\"] = data[\"total_bedrooms\"].fillna(data[\"total_bedrooms\"].mean())"
   ]
  },
  {
   "cell_type": "code",
   "execution_count": null,
   "id": "c868dd78",
   "metadata": {},
   "outputs": [],
   "source": [
    "data.isnull().sum()"
   ]
  },
  {
   "cell_type": "markdown",
   "id": "dea412d0",
   "metadata": {},
   "source": [
    "### Transformamos la columna 'ocean_proximity   a numerica usando la funcion .map"
   ]
  },
  {
   "cell_type": "code",
   "execution_count": null,
   "id": "49893b67",
   "metadata": {},
   "outputs": [],
   "source": [
    "data['ocean_proximity'] = data['ocean_proximity'].map({\n",
    "    '<1H OCEAN': 0,\n",
    "    'INLAND': 1,\n",
    "    'ISLAND': 2,\n",
    "    'NEAR BAY': 3,\n",
    "    'NEAR OCEAN': 4\n",
    "})\n"
   ]
  },
  {
   "cell_type": "code",
   "execution_count": null,
   "id": "5a86c6cb",
   "metadata": {},
   "outputs": [],
   "source": [
    "# Comprobamos que no existan valores NaN\n",
    "data.isnull().sum()"
   ]
  },
  {
   "cell_type": "markdown",
   "id": "b7b89f22",
   "metadata": {},
   "source": [
    "### Separamos las variables independientes y dependiente"
   ]
  },
  {
   "cell_type": "code",
   "execution_count": null,
   "id": "c41b079d",
   "metadata": {},
   "outputs": [],
   "source": [
    "X = data.drop('median_house_value', axis=1)\n",
    "y = data['median_house_value']"
   ]
  },
  {
   "cell_type": "markdown",
   "id": "7b3676bd",
   "metadata": {},
   "source": [
    "### Separamos los datos en 80% para entrenar y 20% para testear"
   ]
  },
  {
   "cell_type": "code",
   "execution_count": null,
   "id": "84f74297",
   "metadata": {},
   "outputs": [],
   "source": [
    "from sklearn.model_selection import train_test_split\n",
    "\n",
    "X_train, X_test, y_train, y_test = train_test_split(X,y, train_size=0.8, random_state=42)"
   ]
  },
  {
   "cell_type": "markdown",
   "id": "aee13e4c",
   "metadata": {},
   "source": [
    "### Normalizamos los datos para asegurar un nivel importancia similar en los datos"
   ]
  },
  {
   "cell_type": "code",
   "execution_count": null,
   "id": "7d65332a",
   "metadata": {},
   "outputs": [],
   "source": [
    "from sklearn.preprocessing import StandardScaler\n",
    "\n",
    "scaler = StandardScaler()\n",
    "X_train_scaled = scaler.fit_transform(X_train)\n",
    "X_test_scaled = scaler.transform(X_test) "
   ]
  },
  {
   "cell_type": "markdown",
   "id": "1dab26b5",
   "metadata": {},
   "source": [
    "## Aplicacion de algoritmos de prediccion utilizando las librerias Sickit-Learn y GridSearchCV"
   ]
  },
  {
   "cell_type": "markdown",
   "id": "36a49f96",
   "metadata": {},
   "source": [
    "## Arbol de Decision"
   ]
  },
  {
   "cell_type": "code",
   "execution_count": null,
   "id": "c8e970f6",
   "metadata": {},
   "outputs": [],
   "source": [
    "from sklearn.tree import DecisionTreeRegressor\n",
    "from sklearn.model_selection import GridSearchCV\n",
    "\n",
    "# Definición del modelo y parámetros para Grid Search\n",
    "dt_reg = DecisionTreeRegressor()\n",
    "params_dt_reg = {\n",
    "    'criterion': ['squared_error', 'friedman_mse', 'absolute_error', 'poisson'], \n",
    "    'splitter': ['best', 'random'],\n",
    "    'max_depth': [None, 5, 10, 15], # Profundidad del árbol\n",
    "    'min_samples_split': [2, 5, 10], # Mínimo de samples o muestras\n",
    "    'min_samples_leaf': [1, 2, 4] # Número de hojas por árbol\n",
    "}\n",
    "\n",
    "# Grid Search\n",
    "grid_dt_reg = GridSearchCV(dt_reg, params_dt_reg, cv=5, scoring='neg_mean_squared_error', n_jobs=-1)\n",
    "grid_dt_reg.fit(X_train, y_train)"
   ]
  },
  {
   "cell_type": "markdown",
   "id": "5c15195c",
   "metadata": {},
   "source": [
    "## Random Forest"
   ]
  },
  {
   "cell_type": "code",
   "execution_count": null,
   "id": "3ac62b97",
   "metadata": {},
   "outputs": [],
   "source": [
    "from sklearn.ensemble import RandomForestRegressor\n",
    "\n",
    "# Definición del modelo y parámetros para Grid Search\n",
    "rf_reg = RandomForestRegressor()\n",
    "params_rf_reg = {\n",
    "    'n_estimators': [5, 10, 20], # Estimadores\n",
    "    'max_depth': [None, 5, 10, 15], # Profundiad de los árboles\n",
    "    'min_samples_split': [2, 5, 10], # Mínimo de muestras\n",
    "    'min_samples_leaf': [1, 2, 4], # Mínimo de hojas del árbol\n",
    "    'bootstrap': [True, False]\n",
    "}\n",
    "\n",
    "# Grid Search\n",
    "grid_rf_reg = GridSearchCV(rf_reg, params_rf_reg, cv=5, scoring='neg_mean_squared_error', n_jobs=-1)\n",
    "grid_rf_reg.fit(X_train, y_train)\n"
   ]
  },
  {
   "cell_type": "markdown",
   "id": "8cb21825",
   "metadata": {},
   "source": [
    "## XGBoost"
   ]
  },
  {
   "cell_type": "code",
   "execution_count": null,
   "id": "c3123e28",
   "metadata": {},
   "outputs": [],
   "source": [
    "import xgboost as xgb\n",
    "\n",
    "xgboost_reg = xgb.XGBRegressor()\n",
    "params_xgb_reg = {\n",
    "    'n_estimators': [5, 10], # Estimadores\n",
    "    'max_depth': [2, 4, 6], # Profundidad\n",
    "    'learning_rate': [0.01, 0.1], # Tasa de aprendizaje\n",
    "    'subsample': [0.5, 0.75, 1.0], # sub muestras\n",
    "    'colsample_bytree': [0.5, 1.0],\n",
    "    'gamma': [0, 0.1]\n",
    "}\n",
    "\n",
    "# Grid Search\n",
    "grid_xgb_reg = GridSearchCV(xgboost_reg, params_xgb_reg, cv=3, scoring='neg_mean_squared_error', n_jobs=-1)\n",
    "grid_xgb_reg.fit(X_train, y_train)\n"
   ]
  },
  {
   "cell_type": "markdown",
   "id": "e90f7c8c",
   "metadata": {},
   "source": [
    "## Perceptrón Multicapa"
   ]
  },
  {
   "cell_type": "code",
   "execution_count": null,
   "id": "36b844ca",
   "metadata": {},
   "outputs": [],
   "source": [
    "from sklearn.neural_network import MLPRegressor\n",
    "from sklearn.model_selection import GridSearchCV\n",
    "from sklearn.preprocessing import StandardScaler\n",
    "\n",
    "\n",
    "scaler = StandardScaler()\n",
    "X_train_scaled = scaler.fit_transform(X_train)\n",
    "X_test_scaled = scaler.transform(X_test)\n",
    "\n",
    "mlp_reg = MLPRegressor(max_iter=500)  # Numero de iteraciones\n",
    "\n",
    "params_mlp_reg = {\n",
    "    'hidden_layer_sizes': [(100,), (50, 50), (100, 50)], # Neuronas\n",
    "    'activation': ['relu', 'tanh'], \n",
    "    'solver': ['adam', 'sgd'],\n",
    "    'alpha': [0.0001, 0.001, 0.01, 0.1],  \n",
    "    'learning_rate_init': [0.001, 0.0001, 0,1], # Tasa de aprendizaje\n",
    "    'learning_rate': ['constant', 'adaptive']  # Estimadores de la tasa de aprendizaje\n",
    "}\n",
    "\n",
    "grid_mlp_reg = GridSearchCV(mlp_reg, params_mlp_reg, cv=3, scoring='neg_mean_squared_error', n_jobs=-1)\n",
    "grid_mlp_reg.fit(X_train_scaled, y_train)\n"
   ]
  },
  {
   "cell_type": "markdown",
   "id": "0e368bd7",
   "metadata": {},
   "source": [
    "## Support Vector Machine"
   ]
  },
  {
   "cell_type": "code",
   "execution_count": null,
   "id": "d5f19b9d",
   "metadata": {},
   "outputs": [],
   "source": [
    "from sklearn.svm import SVR\n",
    "\n",
    "# Definición del modelo y parámetros para Grid Search\n",
    "svr_reg = SVR()\n",
    "params_svr_reg = {\n",
    "    'kernel': ['linear', 'rbf'],\n",
    "    'gamma': ['scale', 'auto'],\n",
    "    'C': [0.1, 1],\n",
    "    'epsilon': [0.01, 0.1]\n",
    "}\n",
    "\n",
    "# Grid Search\n",
    "grid_svr_reg = GridSearchCV(svr_reg, params_svr_reg, cv=3, scoring='neg_mean_squared_error', n_jobs=-1)\n",
    "grid_svr_reg.fit(X_train, y_train)\n"
   ]
  },
  {
   "cell_type": "markdown",
   "id": "96001bde",
   "metadata": {},
   "source": [
    "## KNN"
   ]
  },
  {
   "cell_type": "code",
   "execution_count": null,
   "id": "a48d7f1b",
   "metadata": {},
   "outputs": [],
   "source": [
    "from sklearn.neighbors import KNeighborsRegressor\n",
    "\n",
    "# Definición del modelo y parámetros para Grid Search\n",
    "knn_reg = KNeighborsRegressor()\n",
    "params_knn_reg = {\n",
    "    'n_neighbors': range(1, 3),\n",
    "    'weights': ['uniform', 'distance'],\n",
    "    'algorithm': ['auto', 'ball_tree', 'kd_tree', 'brute'],\n",
    "    'leaf_size': [2, 5, 7],\n",
    "    'p': [1, 2]\n",
    "}\n",
    "\n",
    "# Grid Search\n",
    "grid_knn_reg = GridSearchCV(knn_reg, params_knn_reg, cv=2, scoring='neg_mean_squared_error', n_jobs=-1)\n",
    "grid_knn_reg.fit(X_train, y_train)\n"
   ]
  },
  {
   "cell_type": "markdown",
   "id": "f51939f5",
   "metadata": {},
   "source": [
    "## ElasticNet"
   ]
  },
  {
   "cell_type": "code",
   "execution_count": null,
   "id": "69bad060",
   "metadata": {},
   "outputs": [],
   "source": [
    "from sklearn.linear_model import ElasticNet\n",
    "from sklearn.model_selection import GridSearchCV\n",
    "\n",
    "# Definición del modelo y parámetros para Grid Search\n",
    "elastic_net_reg = ElasticNet()\n",
    "params_elastic_net = {\n",
    "    'alpha': [0.1, 1, 10, 100],  # Combina la importancia de los términos de regularización L1 y L2\n",
    "    'l1_ratio': [0.1, 0.5, 0.9],  # Mezcla entre la regresión Lasso y Ridge (0 = Ridge, 1 = Lasso)\n",
    "    'max_iter': [100, 500],  # Número máximo de iteraciones\n",
    "    'tol': [0.0001, 0.001]  # Tolerancia para el criterio de parada\n",
    "}\n",
    "\n",
    "# Grid Search\n",
    "grid_elastic_net_reg = GridSearchCV(elastic_net_reg, params_elastic_net, cv=5, scoring='neg_mean_squared_error', n_jobs=-1)\n",
    "grid_elastic_net_reg.fit(X_train, y_train)\n"
   ]
  },
  {
   "cell_type": "markdown",
   "id": "bf537487",
   "metadata": {},
   "source": [
    "## Gradient Boosting"
   ]
  },
  {
   "cell_type": "code",
   "execution_count": null,
   "id": "2f8501be",
   "metadata": {},
   "outputs": [],
   "source": [
    "from sklearn.ensemble import GradientBoostingRegressor\n",
    "from sklearn.model_selection import GridSearchCV\n",
    "\n",
    "# Definición del modelo y parámetros para Grid Search\n",
    "gb_reg = GradientBoostingRegressor()\n",
    "params_gb = {\n",
    "    'n_estimators': [5, 10, 15],  # Número de estimadores\n",
    "    'learning_rate': [0.01, 0.1, 0.2],  # Tasa de aprendizaje\n",
    "    'max_depth': [3, 4, 5],  # Profundidad máxima de los estimadores \n",
    "    'min_samples_split': [2, 4],  # Número mínimo de muestras para un sample\n",
    "    'min_samples_leaf': [1, 2],  # Número mínimo de muestras requeridas en un nodo hoja\n",
    "    'max_features': ['sqrt', 'log2', None]  # Número de características para dividir los nodos\n",
    "}\n",
    "grid_gb_reg = GridSearchCV(gb_reg, params_gb, cv=5, scoring='neg_mean_squared_error', n_jobs=-1)\n",
    "grid_gb_reg.fit(X_train, y_train)"
   ]
  },
  {
   "cell_type": "markdown",
   "id": "ea653378",
   "metadata": {},
   "source": [
    "## Lasso y Lars"
   ]
  },
  {
   "cell_type": "code",
   "execution_count": null,
   "id": "78aa9602",
   "metadata": {},
   "outputs": [],
   "source": [
    "from sklearn.linear_model import LassoLars\n",
    "from sklearn.model_selection import GridSearchCV\n",
    "\n",
    "# Definición del modelo y parámetros para Grid Search\n",
    "lasso_lars = LassoLars()\n",
    "params_lasso_lars = {\n",
    "    'alpha': [0.01, 0.1, 1, 10],  # Parámetro de penalización\n",
    "    'max_iter': [10, 50, 100],  # Número máximo de iteraciones\n",
    "    'eps': [1e-4, 1e-8, 1e-12]  # Épsilon para el criterio de convergencia\n",
    "}\n",
    "\n",
    "grid_lasso_lars = GridSearchCV(lasso_lars, params_lasso_lars, cv=5, scoring='neg_mean_squared_error', n_jobs=-1)\n",
    "grid_lasso_lars.fit(X_train, y_train)"
   ]
  },
  {
   "cell_type": "markdown",
   "id": "9fa0393f",
   "metadata": {},
   "source": [
    "## Cat Boost"
   ]
  },
  {
   "cell_type": "code",
   "execution_count": null,
   "id": "dff638cf",
   "metadata": {},
   "outputs": [],
   "source": [
    "#!pip install catboost"
   ]
  },
  {
   "cell_type": "code",
   "execution_count": null,
   "id": "1608cd9f",
   "metadata": {},
   "outputs": [],
   "source": [
    "from catboost import CatBoostRegressor\n",
    "\n",
    "catboost_reg = CatBoostRegressor(silent=True)\n",
    "params_catboost = {\n",
    "    'iterations': [2, 5, 10],\n",
    "    'learning_rate': [0.01, 0.1, 0.2],\n",
    "    'depth': [2, 4, 6],\n",
    "    'l2_leaf_reg': [1, 3, 5],\n",
    "    'loss_function': ['RMSE', 'MAE']\n",
    "}\n",
    "\n",
    "grid_catboost_reg = GridSearchCV(catboost_reg, params_catboost, cv=2, scoring='neg_mean_squared_error', n_jobs=-1)\n",
    "grid_catboost_reg.fit(X_train, y_train)\n"
   ]
  },
  {
   "cell_type": "markdown",
   "id": "0e696599",
   "metadata": {},
   "source": [
    "## LightGBM"
   ]
  },
  {
   "cell_type": "code",
   "execution_count": null,
   "id": "3af43d82",
   "metadata": {},
   "outputs": [],
   "source": [
    "#!pip install lightgbm"
   ]
  },
  {
   "cell_type": "code",
   "execution_count": null,
   "id": "78c86ee3",
   "metadata": {},
   "outputs": [],
   "source": [
    "import lightgbm as lgb\n",
    "from sklearn.model_selection import GridSearchCV\n",
    "\n",
    "# Definición del modelo y parámetros para Grid Search\n",
    "lgbm_reg = lgb.LGBMRegressor()\n",
    "params_lgbm = {\n",
    "    'num_leaves': [31, 62, 127],  # Número de hojas en un árbol\n",
    "    'learning_rate': [0.01, 0.1, 0.2],  # Tasa de aprendizaje\n",
    "    'n_estimators': [5, 10, 15],  # Número de árboles a construir\n",
    "    'max_depth': [-1, 5, 10],  # Profundidad máxima de los árboles\n",
    "    'min_split_gain': [0.0, 0.1],  # Ganancia mínima para realizar una división\n",
    "    'subsample': [0.8, 1.0],  # Submuestreo de los datos para construir los árboles\n",
    "    'colsample_bytree': [0.8, 1.0]  # Submuestreo de características para construir cada árbol\n",
    "}\n",
    "\n",
    "# Grid Search\n",
    "grid_lgbm_reg = GridSearchCV(lgbm_reg, params_lgbm, cv=3, scoring='neg_mean_squared_error', n_jobs=-1)\n",
    "grid_lgbm_reg.fit(X_train, y_train)\n"
   ]
  },
  {
   "cell_type": "markdown",
   "id": "52fa5bf0",
   "metadata": {},
   "source": [
    "## Comparacion de Metricas"
   ]
  },
  {
   "cell_type": "code",
   "execution_count": null,
   "id": "778b4d5b",
   "metadata": {},
   "outputs": [],
   "source": [
    "from sklearn.metrics import mean_squared_error, r2_score\n",
    "from tabulate import tabulate\n",
    "\n",
    "# Supongamos que tienes un diccionario de modelos entrenados\n",
    "# donde las claves son los nombres de los modelos y los valores son los modelos ya entrenados\n",
    "models = {\n",
    "    'DecisionTree': grid_dt_reg.best_estimator_,\n",
    "    'RandomForest': grid_rf_reg.best_estimator_,\n",
    "    'XGBoost': grid_xgb_reg.best_estimator_,\n",
    "    'MLPRegressor': grid_mlp_reg.best_estimator_,\n",
    "    'SVR': grid_svr_reg.best_estimator_,\n",
    "    'KNeighbors': grid_knn_reg.best_estimator_,\n",
    "    'ElasticNet': grid_elastic_net_reg.best_estimator_,\n",
    "    'GradientBoosting': grid_gb_reg.best_estimator_,\n",
    "    'CatBoost': grid_catboost_reg.best_estimator_,\n",
    "    'LightGBM': grid_lgbm_reg.best_estimator_,\n",
    "\n",
    "}\n",
    "\n",
    "# Calculamos las metricas\n",
    "results = []\n",
    "for name, model in models.items():\n",
    "    y_pred = model.predict(X_test)\n",
    "    mse = mean_squared_error(y_test, y_pred)\n",
    "    r2 = r2_score(y_test, y_pred)\n",
    "    results.append([name, mse, r2])\n",
    "\n",
    "print(tabulate(results, headers=['Modelo', 'MSE', 'R^2']))\n"
   ]
  },
  {
   "cell_type": "code",
   "execution_count": null,
   "id": "3130615d",
   "metadata": {},
   "outputs": [],
   "source": []
  },
  {
   "cell_type": "code",
   "execution_count": null,
   "id": "c31e096b",
   "metadata": {},
   "outputs": [],
   "source": []
  },
  {
   "cell_type": "code",
   "execution_count": null,
   "id": "1ab9c85b",
   "metadata": {},
   "outputs": [],
   "source": []
  },
  {
   "cell_type": "code",
   "execution_count": null,
   "id": "869a7c61",
   "metadata": {},
   "outputs": [],
   "source": []
  }
 ],
 "metadata": {
  "kernelspec": {
   "display_name": "Python 3 (ipykernel)",
   "language": "python",
   "name": "python3"
  },
  "language_info": {
   "codemirror_mode": {
    "name": "ipython",
    "version": 3
   },
   "file_extension": ".py",
   "mimetype": "text/x-python",
   "name": "python",
   "nbconvert_exporter": "python",
   "pygments_lexer": "ipython3",
   "version": "3.11.4"
  }
 },
 "nbformat": 4,
 "nbformat_minor": 5
}
